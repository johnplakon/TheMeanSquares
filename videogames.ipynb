{
 "cells": [
  {
   "cell_type": "code",
   "execution_count": 1,
   "metadata": {},
   "outputs": [],
   "source": [
    "#Dependencies\n",
    "import urllib.request\n",
    "import requests\n",
    "import pandas as pd\n",
    "import numpy as np\n",
    "# Import BS library so we can parse HTML and XML document\n",
    "from bs4 import BeautifulSoup as bs"
   ]
  },
  {
   "cell_type": "code",
   "execution_count": null,
   "metadata": {},
   "outputs": [],
   "source": [
    "# vz_df_2018 = pd.read_csv('C:/DataVisual/TheMeanSquares/vz_games_2018.csv')"
   ]
  },
  {
   "cell_type": "code",
   "execution_count": null,
   "metadata": {},
   "outputs": [],
   "source": [
    "# vz_df_2018.head()"
   ]
  },
  {
   "cell_type": "code",
   "execution_count": null,
   "metadata": {},
   "outputs": [],
   "source": [
    "# vz_df.dtypes\n",
    "# vz_df_2018 = vz_df[vz_df['Year'] == 2018]\n",
    "vz_df_2018.count()"
   ]
  },
  {
   "cell_type": "code",
   "execution_count": null,
   "metadata": {},
   "outputs": [],
   "source": [
    "#vz_df_2018.columns.values[0] = \"index\"\n",
    "#vz_df_2018.rename(columns={'Unnamed: 0':'index'}, inplace=True)"
   ]
  },
  {
   "cell_type": "code",
   "execution_count": null,
   "metadata": {},
   "outputs": [],
   "source": [
    "vz_df_2018.columns.tolist()"
   ]
  },
  {
   "cell_type": "code",
   "execution_count": 2,
   "metadata": {},
   "outputs": [],
   "source": [
    "# Dependencies and setup\n",
    "import matplotlib.pyplot as plt\n",
    "import psycopg2\n",
    "import datetime\n",
    "from config import password\n",
    "\n",
    "# setup connection to data_happy_db database\n",
    "import sqlalchemy\n",
    "from sqlalchemy.ext.automap import automap_base\n",
    "from sqlalchemy.orm import Session\n",
    "from sqlalchemy import create_engine, func"
   ]
  },
  {
   "cell_type": "code",
   "execution_count": 3,
   "metadata": {},
   "outputs": [],
   "source": [
    "engine = create_engine('postgresql+psycopg2://postgres:'+ password + '@localhost:5432/videogames_db')\n",
    "connection = engine.connect()"
   ]
  },
  {
   "cell_type": "code",
   "execution_count": 4,
   "metadata": {},
   "outputs": [
    {
     "data": {
      "text/plain": [
       "['games']"
      ]
     },
     "execution_count": 4,
     "metadata": {},
     "output_type": "execute_result"
    }
   ],
   "source": [
    "# List table names of database\n",
    "engine.table_names()"
   ]
  },
  {
   "cell_type": "code",
   "execution_count": null,
   "metadata": {},
   "outputs": [],
   "source": [
    "# read dataframe into videogames_db\n",
    "# vz_df_2018.to_sql(name='games', con=engine, if_exists='replace', index=False)"
   ]
  },
  {
   "cell_type": "code",
   "execution_count": 5,
   "metadata": {},
   "outputs": [],
   "source": [
    "# Reflect existing databse into a new model\n",
    "Base = automap_base()\n",
    "#Relect the tables\n",
    "Base.prepare(engine, reflect=True)"
   ]
  },
  {
   "cell_type": "code",
   "execution_count": null,
   "metadata": {},
   "outputs": [],
   "source": [
    "# vz_df_html = vz_df_2018.to_html"
   ]
  },
  {
   "cell_type": "code",
   "execution_count": null,
   "metadata": {},
   "outputs": [],
   "source": [
    "# vz_df_html"
   ]
  },
  {
   "cell_type": "code",
   "execution_count": null,
   "metadata": {},
   "outputs": [],
   "source": [
    "#engine= create_engine(\"sqlite:///data2.sqlite\")"
   ]
  },
  {
   "cell_type": "code",
   "execution_count": 6,
   "metadata": {},
   "outputs": [
    {
     "data": {
      "text/plain": [
       "['games']"
      ]
     },
     "execution_count": 6,
     "metadata": {},
     "output_type": "execute_result"
    }
   ],
   "source": [
    "from sqlalchemy import inspect\n",
    "inspector = inspect (engine)\n",
    "inspector.get_table_names()"
   ]
  },
  {
   "cell_type": "code",
   "execution_count": 7,
   "metadata": {},
   "outputs": [],
   "source": [
    "# engine.execute('SELECT * from games LIMIT 10').fetchall()"
   ]
  },
  {
   "cell_type": "code",
   "execution_count": 8,
   "metadata": {},
   "outputs": [],
   "source": [
    "Games = Base.classes.games"
   ]
  },
  {
   "cell_type": "code",
   "execution_count": 38,
   "metadata": {},
   "outputs": [],
   "source": [
    "# Create a database session object\n",
    "session = Session(engine)"
   ]
  },
  {
   "cell_type": "code",
   "execution_count": 20,
   "metadata": {},
   "outputs": [
    {
     "data": {
      "text/plain": [
       "[('Red Dead Redemption 2', 19.71),\n",
       " ('Call of Duty: Black Ops IIII', 14.3),\n",
       " ('FIFA 19', 12.22),\n",
       " ('God of War (2018)', 6.15),\n",
       " ('Far Cry 5', 5.8),\n",
       " ('Monster Hunter: World', 5.6),\n",
       " ('NBA 2K19', 4.67),\n",
       " (\"Assassin's Creed Odyssey\", 4.63),\n",
       " (\"Pokemon: Let's Go, Pikachu!\", 4.57),\n",
       " ('Battlefield V', 3.87),\n",
       " ('Madden NFL 19', 3.72),\n",
       " ('Spyro Reignited Trilogy', 2.82),\n",
       " (\"Pokemon: Let's Go, Eevee!\", 2.73),\n",
       " ('Shadow of the Tomb Raider', 2.52),\n",
       " ('Fallout 76', 2.46),\n",
       " ('Dragon Ball FighterZ', 2.42),\n",
       " ('Dragon Quest XI: Echoes of an Elusive Age', 2.04),\n",
       " ('Minecraft', 1.89),\n",
       " ('Forza Horizon 4', 1.84),\n",
       " ('Crash Bandicoot N. Sane Trilogy', 1.76)]"
      ]
     },
     "execution_count": 20,
     "metadata": {},
     "output_type": "execute_result"
    }
   ],
   "source": [
    "# list of all the names and global_sales in games table\n",
    "session.query(Games.Name, func.sum(Games.Global_Sales)).\\\n",
    "    group_by(Games.Name).order_by(func.sum(Games.Global_Sales).desc()).\\\n",
    "    limit(20).all()"
   ]
  },
  {
   "cell_type": "code",
   "execution_count": 23,
   "metadata": {},
   "outputs": [
    {
     "data": {
      "text/plain": [
       "[('Action-Adventure', 35.18),\n",
       " ('Action', 28.99),\n",
       " ('Sports', 27.16),\n",
       " ('Shooter', 21.41),\n",
       " ('Role-Playing', 20.6),\n",
       " ('Platform', 7.66),\n",
       " ('Fighting', 7.58),\n",
       " ('Racing', 6.73),\n",
       " ('Simulation', 4.81),\n",
       " ('Adventure', 2.79),\n",
       " ('Music', 2.27),\n",
       " ('Sandbox', 1.89),\n",
       " ('Misc', 1.82),\n",
       " ('Puzzle', 1.19),\n",
       " ('Strategy', 1.13),\n",
       " ('Party', 0.51),\n",
       " ('Visual Novel', 0.39),\n",
       " ('MMO', 0.26),\n",
       " ('Board Game', 0.01)]"
      ]
     },
     "execution_count": 23,
     "metadata": {},
     "output_type": "execute_result"
    }
   ],
   "source": [
    "session.query(Games.Genre, func.sum(Games.Global_Sales)).\\\n",
    "    group_by(Games.Genre).order_by(func.sum(Games.Global_Sales).desc()).all()"
   ]
  },
  {
   "cell_type": "code",
   "execution_count": 33,
   "metadata": {},
   "outputs": [
    {
     "data": {
      "text/plain": [
       "[('Red Dead Redemption 2', 19.71, 9.02, 7.68, 0.21, 2.8),\n",
       " ('Call of Duty: Black Ops IIII', 14.3, 7.37, 4.47, 0.5, 1.96),\n",
       " ('FIFA 19', 12.22, 1.58, 8.93, 0.16, 1.56),\n",
       " ('God of War (2018)', 6.15, 2.83, 2.17, 0.13, 1.02),\n",
       " ('Far Cry 5', 5.8, 2.58, 2.27, 0.15, 0.79),\n",
       " ('Monster Hunter: World', 5.6, 1.7, 1.23, 2.17, 0.51),\n",
       " ('NBA 2K19', 4.67, 3.4, 0.54, 0.04, 0.68),\n",
       " (\"Assassin's Creed Odyssey\", 4.63, 2.09, 1.81, 0.09, 0.64),\n",
       " (\"Pokemon: Let's Go, Pikachu!\", 4.57, 2.16, 1.24, 0.82, 0.34),\n",
       " ('Battlefield V', 3.87, 1.85, 1.37, 0.16, 0.5),\n",
       " ('Madden NFL 19', 3.72, 2.96, 0.2, None, 0.57),\n",
       " ('Spyro Reignited Trilogy', 2.82, 1.11, 1.31, None, 0.41),\n",
       " (\"Pokemon: Let's Go, Eevee!\", 2.73, 1.22, 0.8, 0.51, 0.2),\n",
       " ('Shadow of the Tomb Raider', 2.52, 1.05, 1.07, 0.06, 0.34),\n",
       " ('Fallout 76', 2.46, 1.23, 0.82, 0.1, 0.31),\n",
       " ('Dragon Ball FighterZ', 2.42, 1.2, 0.73, 0.19, 0.31),\n",
       " ('Dragon Quest XI: Echoes of an Elusive Age', 2.04, 0.29, 0.22, 1.43, 0.1),\n",
       " ('Minecraft', 1.89, 0.69, 0.56, 0.52, 0.12),\n",
       " ('Forza Horizon 4', 1.84, 0.74, 0.95, 0.01, 0.15),\n",
       " ('Crash Bandicoot N. Sane Trilogy', 1.76, 0.67, 0.94, 0.02, 0.14)]"
      ]
     },
     "execution_count": 33,
     "metadata": {},
     "output_type": "execute_result"
    }
   ],
   "source": [
    "session.query(Games.Name,func.sum(Games.Global_Sales),func.sum(Games.NA_Sales),func.sum(Games.PAL_Sales),\\\n",
    "              func.sum(Games.JP_Sales), func.sum(Games.Other_Sales)).\\\n",
    "              group_by(Games.Name).order_by(func.sum(Games.Global_Sales).desc()).limit(20).all()"
   ]
  },
  {
   "cell_type": "code",
   "execution_count": 40,
   "metadata": {},
   "outputs": [
    {
     "data": {
      "text/plain": [
       "[('Rockstar Games', 19.71),\n",
       " ('Treyarch', 14.3),\n",
       " ('EA Sports', 12.22),\n",
       " ('Capcom', 7.79),\n",
       " ('Game Freak', 7.42),\n",
       " ('SIE Santa Monica Studio', 6.15),\n",
       " ('Visual Concepts', 6.13),\n",
       " ('Ubisoft Quebec', 4.63),\n",
       " ('Ubisoft', 4.32),\n",
       " ('EA Tiburon', 4.06),\n",
       " ('Toys for Bob', 3.93),\n",
       " ('EA DICE', 3.87),\n",
       " ('Square Enix', 3.36),\n",
       " (\"Traveller's Tales\", 3.23),\n",
       " ('Arc System Works', 2.71),\n",
       " ('Eidos Montreal', 2.52),\n",
       " ('Bethesda Game Studios', 2.46),\n",
       " ('Sega', 2.25),\n",
       " ('4J Studios', 1.89),\n",
       " ('Playground Games', 1.84)]"
      ]
     },
     "execution_count": 40,
     "metadata": {},
     "output_type": "execute_result"
    }
   ],
   "source": [
    "session.query(Games.Developer, func.sum(Games.Global_Sales)).\\\n",
    "             group_by(Games.Developer).order_by(func.sum(Games.Global_Sales).desc()).\\\n",
    "              limit(20).all()"
   ]
  },
  {
   "cell_type": "code",
   "execution_count": 43,
   "metadata": {},
   "outputs": [
    {
     "data": {
      "text/plain": [
       "[('Rockstar Games', 19.71, 9.02, 7.68, 0.21, 2.8),\n",
       " ('Treyarch', 14.3, 7.37, 4.47, 0.5, 1.96),\n",
       " ('EA Sports', 12.22, 1.58, 8.93, 0.16, 1.56),\n",
       " ('Capcom', 7.79, 2.83, 1.58, 2.68, 0.72),\n",
       " ('Game Freak', 7.42, 3.38, 2.15, 1.33, 0.55),\n",
       " ('SIE Santa Monica Studio', 6.15, 2.83, 2.17, 0.13, 1.02),\n",
       " ('Visual Concepts', 6.13, 4.06, 1.14, 0.04, 0.88),\n",
       " ('Ubisoft Quebec', 4.63, 2.09, 1.81, 0.09, 0.64),\n",
       " ('Ubisoft', 4.32, 1.53, 1.97, 0.16, 0.65),\n",
       " ('EA Tiburon', 4.06, 3.24, 0.2, None, 0.63),\n",
       " ('Toys for Bob', 3.93, 1.55, 1.88, 0.02, 0.5),\n",
       " ('EA DICE', 3.87, 1.85, 1.37, 0.16, 0.5),\n",
       " ('Square Enix', 3.36, 0.89, 0.43, 1.83, 0.22),\n",
       " (\"Traveller's Tales\", 3.23, 1.71, 1.16, 0.01, 0.38),\n",
       " ('Arc System Works', 2.71, 1.33, 0.74, 0.31, 0.33),\n",
       " ('Eidos Montreal', 2.52, 1.05, 1.07, 0.06, 0.34),\n",
       " ('Bethesda Game Studios', 2.46, 1.23, 0.82, 0.1, 0.31),\n",
       " ('Sega', 2.25, 0.8, 0.59, 0.59, 0.24),\n",
       " ('4J Studios', 1.89, 0.69, 0.56, 0.52, 0.12),\n",
       " ('Playground Games', 1.84, 0.74, 0.95, 0.01, 0.15)]"
      ]
     },
     "execution_count": 43,
     "metadata": {},
     "output_type": "execute_result"
    }
   ],
   "source": [
    "session.query(Games.Developer, func.sum(Games.Global_Sales), func.sum(Games.NA_Sales),func.sum(Games.PAL_Sales),\\\n",
    "              func.sum(Games.JP_Sales), func.sum(Games.Other_Sales)).\\\n",
    "             group_by(Games.Developer).order_by(func.sum(Games.Global_Sales).desc()).\\\n",
    "              limit(20).all()"
   ]
  },
  {
   "cell_type": "code",
   "execution_count": 44,
   "metadata": {},
   "outputs": [],
   "source": [
    "stmt = session.query(Games).statement"
   ]
  },
  {
   "cell_type": "code",
   "execution_count": 45,
   "metadata": {},
   "outputs": [],
   "source": [
    "df_test=pd.read_sql_query(stmt, session.bind)"
   ]
  },
  {
   "cell_type": "code",
   "execution_count": 46,
   "metadata": {},
   "outputs": [
    {
     "ename": "SyntaxError",
     "evalue": "'return' outside function (<ipython-input-46-98cf0d9128a4>, line 1)",
     "output_type": "error",
     "traceback": [
      "\u001b[1;36m  File \u001b[1;32m\"<ipython-input-46-98cf0d9128a4>\"\u001b[1;36m, line \u001b[1;32m1\u001b[0m\n\u001b[1;33m    return jsonify(list(df_test.columns)[1:])\u001b[0m\n\u001b[1;37m                                             ^\u001b[0m\n\u001b[1;31mSyntaxError\u001b[0m\u001b[1;31m:\u001b[0m 'return' outside function\n"
     ]
    }
   ],
   "source": [
    "#return jsonify(list(df_test.columns)[1:])\n"
   ]
  },
  {
   "cell_type": "code",
   "execution_count": null,
   "metadata": {},
   "outputs": [],
   "source": []
  }
 ],
 "metadata": {
  "kernelspec": {
   "display_name": "Python 3",
   "language": "python",
   "name": "python3"
  },
  "language_info": {
   "codemirror_mode": {
    "name": "ipython",
    "version": 3
   },
   "file_extension": ".py",
   "mimetype": "text/x-python",
   "name": "python",
   "nbconvert_exporter": "python",
   "pygments_lexer": "ipython3",
   "version": "3.6.8"
  }
 },
 "nbformat": 4,
 "nbformat_minor": 2
}
